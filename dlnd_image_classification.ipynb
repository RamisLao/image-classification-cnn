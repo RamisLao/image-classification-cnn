{
 "cells": [
  {
   "cell_type": "markdown",
   "metadata": {
    "collapsed": true
   },
   "source": [
    "# Image Classification\n",
    "In this project, you'll classify images from the [CIFAR-10 dataset](https://www.cs.toronto.edu/~kriz/cifar.html).  The dataset consists of airplanes, dogs, cats, and other objects. You'll preprocess the images, then train a convolutional neural network on all the samples. The images need to be normalized and the labels need to be one-hot encoded.  You'll get to apply what you learned and build a convolutional, max pooling, dropout, and fully connected layers.  At the end, you'll get to see your neural network's predictions on the sample images.\n",
    "## Get the Data\n",
    "Run the following cell to download the [CIFAR-10 dataset for python](https://www.cs.toronto.edu/~kriz/cifar-10-python.tar.gz)."
   ]
  },
  {
   "cell_type": "code",
   "execution_count": 68,
   "metadata": {},
   "outputs": [
    {
     "name": "stdout",
     "output_type": "stream",
     "text": [
      "All files found!\n"
     ]
    }
   ],
   "source": [
    "\"\"\"\n",
    "DON'T MODIFY ANYTHING IN THIS CELL THAT IS BELOW THIS LINE\n",
    "\"\"\"\n",
    "from urllib.request import urlretrieve\n",
    "from os.path import isfile, isdir\n",
    "from tqdm import tqdm\n",
    "import problem_unittests as tests\n",
    "import tarfile\n",
    "\n",
    "cifar10_dataset_folder_path = 'cifar-10-batches-py'\n",
    "\n",
    "# Use Floyd's cifar-10 dataset if present\n",
    "floyd_cifar10_location = '/input/cifar-10/python.tar.gz'\n",
    "if isfile(floyd_cifar10_location):\n",
    "    tar_gz_path = floyd_cifar10_location\n",
    "else:\n",
    "    tar_gz_path = 'cifar-10-python.tar.gz'\n",
    "\n",
    "class DLProgress(tqdm):\n",
    "    last_block = 0\n",
    "\n",
    "    def hook(self, block_num=1, block_size=1, total_size=None):\n",
    "        self.total = total_size\n",
    "        self.update((block_num - self.last_block) * block_size)\n",
    "        self.last_block = block_num\n",
    "\n",
    "if not isfile(tar_gz_path):\n",
    "    with DLProgress(unit='B', unit_scale=True, miniters=1, desc='CIFAR-10 Dataset') as pbar:\n",
    "        urlretrieve(\n",
    "            'https://www.cs.toronto.edu/~kriz/cifar-10-python.tar.gz',\n",
    "            tar_gz_path,\n",
    "            pbar.hook)\n",
    "\n",
    "if not isdir(cifar10_dataset_folder_path):\n",
    "    with tarfile.open(tar_gz_path) as tar:\n",
    "        tar.extractall()\n",
    "        tar.close()\n",
    "\n",
    "\n",
    "tests.test_folder_path(cifar10_dataset_folder_path)"
   ]
  },
  {
   "cell_type": "markdown",
   "metadata": {},
   "source": [
    "## Explore the Data\n",
    "The dataset is broken into batches to prevent your machine from running out of memory.  The CIFAR-10 dataset consists of 5 batches, named `data_batch_1`, `data_batch_2`, etc.. Each batch contains the labels and images that are one of the following:\n",
    "* airplane\n",
    "* automobile\n",
    "* bird\n",
    "* cat\n",
    "* deer\n",
    "* dog\n",
    "* frog\n",
    "* horse\n",
    "* ship\n",
    "* truck\n",
    "\n",
    "Understanding a dataset is part of making predictions on the data.  Play around with the code cell below by changing the `batch_id` and `sample_id`. The `batch_id` is the id for a batch (1-5). The `sample_id` is the id for a image and label pair in the batch.\n",
    "\n",
    "Ask yourself \"What are all possible labels?\", \"What is the range of values for the image data?\", \"Are the labels in order or random?\".  Answers to questions like these will help you preprocess the data and end up with better predictions."
   ]
  },
  {
   "cell_type": "code",
   "execution_count": 69,
   "metadata": {},
   "outputs": [
    {
     "name": "stdout",
     "output_type": "stream",
     "text": [
      "\n",
      "Stats of batch 5:\n",
      "Samples: 10000\n",
      "Label Counts: {0: 1014, 1: 1014, 2: 952, 3: 1016, 4: 997, 5: 1025, 6: 980, 7: 977, 8: 1003, 9: 1022}\n",
      "First 20 Labels: [1, 8, 5, 1, 5, 7, 4, 3, 8, 2, 7, 2, 0, 1, 5, 9, 6, 2, 0, 8]\n",
      "\n",
      "Example of Image 9999:\n",
      "Image - Min Value: 4 Max Value: 255\n",
      "Image - Shape: (32, 32, 3)\n",
      "Label - Label Id: 1 Name: automobile\n"
     ]
    },
    {
     "data": {
      "image/png": "[encoded data removed]",
      "text/plain": [
       "<matplotlib.figure.Figure at 0x7f4f037dce10>"
      ]
     },
     "metadata": {
      "image/png": {
       "height": 250,
       "width": 253
      }
     },
     "output_type": "display_data"
    }
   ],
   "source": [
    "%matplotlib inline\n",
    "%config InlineBackend.figure_format = 'retina'\n",
    "\n",
    "import helper\n",
    "import numpy as np\n",
    "\n",
    "# Explore the dataset\n",
    "batch_id = 5\n",
    "sample_id = 9999\n",
    "helper.display_stats(cifar10_dataset_folder_path, batch_id, sample_id)"
   ]
  },
  {
   "cell_type": "markdown",
   "metadata": {},
   "source": [
    "## Implement Preprocess Functions\n",
    "### Normalize\n",
    "In the cell below, implement the `normalize` function to take in image data, `x`, and return it as a normalized Numpy array. The values should be in the range of 0 to 1, inclusive.  The return object should be the same shape as `x`."
   ]
  },
  {
   "cell_type": "code",
   "execution_count": 70,
   "metadata": {},
   "outputs": [
    {
     "name": "stdout",
     "output_type": "stream",
     "text": [
      "Tests Passed\n"
     ]
    }
   ],
   "source": [
    "def normalize(x):\n",
    "    \"\"\"\n",
    "    Normalize a list of sample image data in the range of 0 to 1\n",
    "    : x: List of image data.  The image shape is (32, 32, 3)\n",
    "    : return: Numpy array of normalize data\n",
    "    \"\"\"\n",
    "    # TODO: Implement Function\n",
    "    return x / 255\n",
    "\n",
    "\n",
    "\"\"\"\n",
    "DON'T MODIFY ANYTHING IN THIS CELL THAT IS BELOW THIS LINE\n",
    "\"\"\"\n",
    "tests.test_normalize(normalize)"
   ]
  },
  {
   "cell_type": "markdown",
   "metadata": {},
   "source": [
    "### One-hot encode\n",
    "Just like the previous code cell, you'll be implementing a function for preprocessing.  This time, you'll implement the `one_hot_encode` function. The input, `x`, are a list of labels.  Implement the function to return the list of labels as One-Hot encoded Numpy array.  The possible values for labels are 0 to 9. The one-hot encoding function should return the same encoding for each value between each call to `one_hot_encode`.  Make sure to save the map of encodings outside the function.\n",
    "\n",
    "Hint: Don't reinvent the wheel."
   ]
  },
  {
   "cell_type": "code",
   "execution_count": 71,
   "metadata": {},
   "outputs": [
    {
     "name": "stdout",
     "output_type": "stream",
     "text": [
      "Tests Passed\n"
     ]
    }
   ],
   "source": [
    "one_hot_dict = {0:[1, 0, 0, 0, 0, 0, 0, 0, 0, 0],\n",
    "               1:[0, 1, 0, 0, 0, 0, 0, 0, 0, 0],\n",
    "               2:[0, 0, 1, 0, 0, 0, 0, 0, 0, 0],\n",
    "               3:[0, 0, 0, 1, 0, 0, 0, 0, 0, 0],\n",
    "               4:[0, 0, 0, 0, 1, 0, 0, 0, 0, 0],\n",
    "               5:[0, 0, 0, 0, 0, 1, 0, 0, 0, 0],\n",
    "               6:[0, 0, 0, 0, 0, 0, 1, 0, 0, 0],\n",
    "               7:[0, 0, 0, 0, 0, 0, 0, 1, 0, 0],\n",
    "               8:[0, 0, 0, 0, 0, 0, 0, 0, 1, 0],\n",
    "               9:[0, 0, 0, 0, 0, 0, 0, 0, 0, 1]}\n",
    "\n",
    "def one_hot_encode(x):\n",
    "    \"\"\"\n",
    "    One hot encode a list of sample labels. Return a one-hot encoded vector for each label.\n",
    "    : x: List of sample Labels\n",
    "    : return: Numpy array of one-hot encoded labels\n",
    "    \"\"\"\n",
    "    # TODO: Implement Function\n",
    "    one_hot = []\n",
    "    for label in x:\n",
    "        one_hot.append(one_hot_dict[label])\n",
    "    return np.array(one_hot)\n",
    "\n",
    "\n",
    "\"\"\"\n",
    "DON'T MODIFY ANYTHING IN THIS CELL THAT IS BELOW THIS LINE\n",
    "\"\"\"\n",
    "\n",
    "tests.test_one_hot_encode(one_hot_encode)"
   ]
  },
  {
   "cell_type": "markdown",
   "metadata": {},
   "source": [
    "### Randomize Data\n",
    "As you saw from exploring the data above, the order of the samples are randomized.  It doesn't hurt to randomize it again, but you don't need to for this dataset."
   ]
  },
  {
   "cell_type": "markdown",
   "metadata": {},
   "source": [
    "## Preprocess all the data and save it\n",
    "Running the code cell below will preprocess all the CIFAR-10 data and save it to file. The code below also uses 10% of the training data for validation."
   ]
  },
  {
   "cell_type": "code",
   "execution_count": 72,
   "metadata": {
    "collapsed": true
   },
   "outputs": [],
   "source": [
    "\"\"\"\n",
    "DON'T MODIFY ANYTHING IN THIS CELL\n",
    "\"\"\"\n",
    "# Preprocess Training, Validation, and Testing Data\n",
    "helper.preprocess_and_save_data(cifar10_dataset_folder_path, normalize, one_hot_encode)"
   ]
  },
  {
   "cell_type": "markdown",
   "metadata": {},
   "source": [
    "# Check Point\n",
    "This is your first checkpoint.  If you ever decide to come back to this notebook or have to restart the notebook, you can start from here.  The preprocessed data has been saved to disk."
   ]
  },
  {
   "cell_type": "code",
   "execution_count": 73,
   "metadata": {
    "collapsed": true
   },
   "outputs": [],
   "source": [
    "\"\"\"\n",
    "DON'T MODIFY ANYTHING IN THIS CELL\n",
    "\"\"\"\n",
    "import pickle\n",
    "import problem_unittests as tests\n",
    "import helper\n",
    "\n",
    "# Load the Preprocessed Validation data\n",
    "valid_features, valid_labels = pickle.load(open('preprocess_validation.p', mode='rb'))"
   ]
  },
  {
   "cell_type": "markdown",
   "metadata": {},
   "source": [
    "## Build the network\n",
    "For the neural network, you'll build each layer into a function.  Most of the code you've seen has been outside of functions. To test your code more thoroughly, we require that you put each layer in a function.  This allows us to give you better feedback and test for simple mistakes using our unittests before you submit your project.\n",
    "\n",
    ">**Note:** If you're finding it hard to dedicate enough time for this course each week, we've provided a small shortcut to this part of the project. In the next couple of problems, you'll have the option to use classes from the [TensorFlow Layers](https://www.tensorflow.org/api_docs/python/tf/layers) or [TensorFlow Layers (contrib)](https://www.tensorflow.org/api_guides/python/contrib.layers) packages to build each layer, except the layers you build in the \"Convolutional and Max Pooling Layer\" section.  TF Layers is similar to Keras's and TFLearn's abstraction to layers, so it's easy to pickup.\n",
    "\n",
    ">However, if you would like to get the most out of this course, try to solve all the problems _without_ using anything from the TF Layers packages. You **can** still use classes from other packages that happen to have the same name as ones you find in TF Layers! For example, instead of using the TF Layers version of the `conv2d` class, [tf.layers.conv2d](https://www.tensorflow.org/api_docs/python/tf/layers/conv2d), you would want to use the TF Neural Network version of `conv2d`, [tf.nn.conv2d](https://www.tensorflow.org/api_docs/python/tf/nn/conv2d). \n",
    "\n",
    "Let's begin!\n",
    "\n",
    "### Input\n",
    "The neural network needs to read the image data, one-hot encoded labels, and dropout keep probability. Implement the following functions\n",
    "* Implement `neural_net_image_input`\n",
    " * Return a [TF Placeholder](https://www.tensorflow.org/api_docs/python/tf/placeholder)\n",
    " * Set the shape using `image_shape` with batch size set to `None`.\n",
    " * Name the TensorFlow placeholder \"x\" using the TensorFlow `name` parameter in the [TF Placeholder](https://www.tensorflow.org/api_docs/python/tf/placeholder).\n",
    "* Implement `neural_net_label_input`\n",
    " * Return a [TF Placeholder](https://www.tensorflow.org/api_docs/python/tf/placeholder)\n",
    " * Set the shape using `n_classes` with batch size set to `None`.\n",
    " * Name the TensorFlow placeholder \"y\" using the TensorFlow `name` parameter in the [TF Placeholder](https://www.tensorflow.org/api_docs/python/tf/placeholder).\n",
    "* Implement `neural_net_keep_prob_input`\n",
    " * Return a [TF Placeholder](https://www.tensorflow.org/api_docs/python/tf/placeholder) for dropout keep probability.\n",
    " * Name the TensorFlow placeholder \"keep_prob\" using the TensorFlow `name` parameter in the [TF Placeholder](https://www.tensorflow.org/api_docs/python/tf/placeholder).\n",
    "\n",
    "These names will be used at the end of the project to load your saved model.\n",
    "\n",
    "Note: `None` for shapes in TensorFlow allow for a dynamic size."
   ]
  },
  {
   "cell_type": "code",
   "execution_count": 74,
   "metadata": {},
   "outputs": [
    {
     "name": "stdout",
     "output_type": "stream",
     "text": [
      "Image Input Tests Passed.\n",
      "Label Input Tests Passed.\n",
      "Keep Prob Tests Passed.\n"
     ]
    }
   ],
   "source": [
    "import tensorflow as tf\n",
    "\n",
    "def neural_net_image_input(image_shape):\n",
    "    \"\"\"\n",
    "    Return a Tensor for a batch of image input\n",
    "    : image_shape: Shape of the images\n",
    "    : return: Tensor for image input.\n",
    "    \"\"\"\n",
    "    # TODO: Implement Function\n",
    "    tensor = tf.placeholder(tf.float32, shape=(None, image_shape[0], image_shape[1], image_shape[2]), name=\"x\")\n",
    "    return tensor\n",
    "\n",
    "\n",
    "def neural_net_label_input(n_classes):\n",
    "    \"\"\"\n",
    "    Return a Tensor for a batch of label input\n",
    "    : n_classes: Number of classes\n",
    "    : return: Tensor for label input.\n",
    "    \"\"\"\n",
    "    # TODO: Implement Function\n",
    "    tensor = tf.placeholder(tf.int32, shape=(None, n_classes), name=\"y\")\n",
    "    return tensor\n",
    "\n",
    "\n",
    "def neural_net_keep_prob_input():\n",
    "    \"\"\"\n",
    "    Return a Tensor for keep probability\n",
    "    : return: Tensor for keep probability.\n",
    "    \"\"\"\n",
    "    # TODO: Implement Function\n",
    "    tensor = tf.placeholder(tf.float32, name=\"keep_prob\")\n",
    "    return tensor\n",
    "\n",
    "\n",
    "\"\"\"\n",
    "DON'T MODIFY ANYTHING IN THIS CELL THAT IS BELOW THIS LINE\n",
    "\"\"\"\n",
    "tf.reset_default_graph()\n",
    "tests.test_nn_image_inputs(neural_net_image_input)\n",
    "tests.test_nn_label_inputs(neural_net_label_input)\n",
    "tests.test_nn_keep_prob_inputs(neural_net_keep_prob_input)"
   ]
  },
  {
   "cell_type": "markdown",
   "metadata": {},
   "source": [
    "### Convolution and Max Pooling Layer\n",
    "Convolution layers have a lot of success with images. For this code cell, you should implement the function `conv2d_maxpool` to apply convolution then max pooling:\n",
    "* Create the weight and bias using `conv_ksize`, `conv_num_outputs` and the shape of `x_tensor`.\n",
    "* Apply a convolution to `x_tensor` using weight and `conv_strides`.\n",
    " * We recommend you use same padding, but you're welcome to use any padding.\n",
    "* Add bias\n",
    "* Add a nonlinear activation to the convolution.\n",
    "* Apply Max Pooling using `pool_ksize` and `pool_strides`.\n",
    " * We recommend you use same padding, but you're welcome to use any padding.\n",
    "\n",
    "**Note:** You **can't** use [TensorFlow Layers](https://www.tensorflow.org/api_docs/python/tf/layers) or [TensorFlow Layers (contrib)](https://www.tensorflow.org/api_guides/python/contrib.layers) for **this** layer, but you can still use TensorFlow's [Neural Network](https://www.tensorflow.org/api_docs/python/tf/nn) package. You may still use the shortcut option for all the **other** layers."
   ]
  },
  {
   "cell_type": "code",
   "execution_count": 75,
   "metadata": {},
   "outputs": [
    {
     "name": "stdout",
     "output_type": "stream",
     "text": [
      "Tests Passed\n"
     ]
    }
   ],
   "source": [
    "def conv2d_maxpool(x_tensor, conv_num_outputs, conv_ksize, conv_strides, pool_ksize, pool_strides):\n",
    "    \"\"\"\n",
    "    Apply convolution then max pooling to x_tensor\n",
    "    :param x_tensor: TensorFlow Tensor\n",
    "    :param conv_num_outputs: Number of outputs for the convolutional layer\n",
    "    :param conv_ksize: kernal size 2-D Tuple for the convolutional layer\n",
    "    :param conv_strides: Stride 2-D Tuple for convolution\n",
    "    :param pool_ksize: kernal size 2-D Tuple for pool\n",
    "    :param pool_strides: Stride 2-D Tuple for pool\n",
    "    : return: A tensor that represents convolution and max pooling of x_tensor\n",
    "    \"\"\"\n",
    "    # TODO: Implement Function\n",
    "    F_w = tf.Variable(tf.truncated_normal([conv_ksize[0], conv_ksize[1], x_tensor.shape.as_list()[3],\n",
    "                                       conv_num_outputs], stddev=0.01))\n",
    "    F_b = tf.Variable(tf.zeros(conv_num_outputs))\n",
    "    padding = 'SAME'\n",
    "    conv_layer = tf.nn.conv2d(x_tensor, F_w, strides=[1, conv_strides[0], conv_strides[1], 1], padding=padding)\n",
    "    conv_layer = tf.nn.bias_add(conv_layer, F_b)\n",
    "    conv_layer = tf.nn.relu(conv_layer)\n",
    "\n",
    "    conv_layer = tf.nn.max_pool(conv_layer, ksize=[1, pool_ksize[0], pool_ksize[1], 1],\n",
    "                                strides=[1, pool_strides[0], pool_strides[1], 1], padding=padding)\n",
    "\n",
    "    return conv_layer\n",
    "\n",
    "\n",
    "\"\"\"\n",
    "DON'T MODIFY ANYTHING IN THIS CELL THAT IS BELOW THIS LINE\n",
    "\"\"\"\n",
    "tests.test_con_pool(conv2d_maxpool)"
   ]
  },
  {
   "cell_type": "markdown",
   "metadata": {},
   "source": [
    "### Flatten Layer\n",
    "Implement the `flatten` function to change the dimension of `x_tensor` from a 4-D tensor to a 2-D tensor.  The output should be the shape (*Batch Size*, *Flattened Image Size*). Shortcut option: you can use classes from the [TensorFlow Layers](https://www.tensorflow.org/api_docs/python/tf/layers) or [TensorFlow Layers (contrib)](https://www.tensorflow.org/api_guides/python/contrib.layers) packages for this layer. For more of a challenge, only use other TensorFlow packages."
   ]
  },
  {
   "cell_type": "code",
   "execution_count": 76,
   "metadata": {},
   "outputs": [
    {
     "name": "stdout",
     "output_type": "stream",
     "text": [
      "Tests Passed\n"
     ]
    }
   ],
   "source": [
    "def flatten(x_tensor):\n",
    "    \"\"\"\n",
    "    Flatten x_tensor to (Batch Size, Flattened Image Size)\n",
    "    : x_tensor: A tensor of size (Batch Size, ...), where ... are the image dimensions.\n",
    "    : return: A tensor of size (Batch Size, Flattened Image Size).\n",
    "    \"\"\"\n",
    "    # TODO: Implement Function\n",
    "    #shape = x_tensor.get_shape().as_list()\n",
    "    #dim = np.prod(shape[1:])\n",
    "    #flattened = tf.reshape(x_tensor, [-1, dim])\n",
    "    return tf.contrib.layers.flatten(x_tensor)\n",
    "\n",
    "\n",
    "\"\"\"\n",
    "DON'T MODIFY ANYTHING IN THIS CELL THAT IS BELOW THIS LINE\n",
    "\"\"\"\n",
    "tests.test_flatten(flatten)"
   ]
  },
  {
   "cell_type": "markdown",
   "metadata": {},
   "source": [
    "### Fully-Connected Layer\n",
    "Implement the `fully_conn` function to apply a fully connected layer to `x_tensor` with the shape (*Batch Size*, *num_outputs*). Shortcut option: you can use classes from the [TensorFlow Layers](https://www.tensorflow.org/api_docs/python/tf/layers) or [TensorFlow Layers (contrib)](https://www.tensorflow.org/api_guides/python/contrib.layers) packages for this layer. For more of a challenge, only use other TensorFlow packages."
   ]
  },
  {
   "cell_type": "code",
   "execution_count": 77,
   "metadata": {},
   "outputs": [
    {
     "name": "stdout",
     "output_type": "stream",
     "text": [
      "Tests Passed\n"
     ]
    }
   ],
   "source": [
    "def fully_conn(x_tensor, num_outputs):\n",
    "    \"\"\"\n",
    "    Apply a fully connected layer to x_tensor using weight and bias\n",
    "    : x_tensor: A 2-D tensor where the first dimension is batch size.\n",
    "    : num_outputs: The number of output that the new tensor should be.\n",
    "    : return: A 2-D tensor where the second dimension is num_outputs.\n",
    "    \"\"\"\n",
    "    # TODO: Implement Function\n",
    "    weights = tf.Variable(tf.truncated_normal([x_tensor.get_shape().as_list()[1], num_outputs],\n",
    "                                        stddev=0.01))\n",
    "    bias = tf.Variable(tf.zeros(num_outputs))\n",
    "    fully_conn = tf.add(tf.matmul(x_tensor, weights), bias)\n",
    "    fully_conn = tf.nn.relu(fully_conn)\n",
    "    return fully_conn\n",
    "\n",
    "\n",
    "\"\"\"\n",
    "DON'T MODIFY ANYTHING IN THIS CELL THAT IS BELOW THIS LINE\n",
    "\"\"\"\n",
    "tests.test_fully_conn(fully_conn)"
   ]
  },
  {
   "cell_type": "markdown",
   "metadata": {},
   "source": [
    "### Output Layer\n",
    "Implement the `output` function to apply a fully connected layer to `x_tensor` with the shape (*Batch Size*, *num_outputs*). Shortcut option: you can use classes from the [TensorFlow Layers](https://www.tensorflow.org/api_docs/python/tf/layers) or [TensorFlow Layers (contrib)](https://www.tensorflow.org/api_guides/python/contrib.layers) packages for this layer. For more of a challenge, only use other TensorFlow packages.\n",
    "\n",
    "**Note:** Activation, softmax, or cross entropy should **not** be applied to this."
   ]
  },
  {
   "cell_type": "code",
   "execution_count": 78,
   "metadata": {},
   "outputs": [
    {
     "name": "stdout",
     "output_type": "stream",
     "text": [
      "Tests Passed\n"
     ]
    }
   ],
   "source": [
    "def output(x_tensor, num_outputs):\n",
    "    \"\"\"\n",
    "    Apply a output layer to x_tensor using weight and bias\n",
    "    : x_tensor: A 2-D tensor where the first dimension is batch size.\n",
    "    : num_outputs: The number of output that the new tensor should be.\n",
    "    : return: A 2-D tensor where the second dimension is num_outputs.\n",
    "    \"\"\"\n",
    "    # TODO: Implement Function\n",
    "    weights = tf.Variable(tf.truncated_normal([x_tensor.get_shape().as_list()[1], num_outputs],\n",
    "                                          stddev=0.01))\n",
    "    bias = tf.Variable(tf.zeros(num_outputs))\n",
    "    output = tf.add(tf.matmul(x_tensor, weights), bias)\n",
    "    return output\n",
    "\n",
    "\n",
    "\"\"\"\n",
    "DON'T MODIFY ANYTHING IN THIS CELL THAT IS BELOW THIS LINE\n",
    "\"\"\"\n",
    "tests.test_output(output)"
   ]
  },
  {
   "cell_type": "markdown",
   "metadata": {},
   "source": [
    "### Create Convolutional Model\n",
    "Implement the function `conv_net` to create a convolutional neural network model. The function takes in a batch of images, `x`, and outputs logits.  Use the layers you created above to create this model:\n",
    "\n",
    "* Apply 1, 2, or 3 Convolution and Max Pool layers\n",
    "* Apply a Flatten Layer\n",
    "* Apply 1, 2, or 3 Fully Connected Layers\n",
    "* Apply an Output Layer\n",
    "* Return the output\n",
    "* Apply [TensorFlow's Dropout](https://www.tensorflow.org/api_docs/python/tf/nn/dropout) to one or more layers in the model using `keep_prob`. "
   ]
  },
  {
   "cell_type": "code",
   "execution_count": 79,
   "metadata": {},
   "outputs": [
    {
     "name": "stdout",
     "output_type": "stream",
     "text": [
      "Neural Network Built!\n"
     ]
    }
   ],
   "source": [
    "def conv_net(x, keep_prob):\n",
    "    \"\"\"\n",
    "    Create a convolutional neural network model\n",
    "    : x: Placeholder tensor that holds image data.\n",
    "    : keep_prob: Placeholder tensor that hold dropout keep probability.\n",
    "    : return: Tensor that represents logits\n",
    "    \"\"\"\n",
    "    # TODO: Apply 1, 2, or 3 Convolution and Max Pool layers\n",
    "    #    Play around with different number of outputs, kernel size and stride\n",
    "    # Function Definition from Above:\n",
    "    #    conv2d_maxpool(x_tensor, conv_num_outputs, conv_ksize, conv_strides, pool_ksize, pool_strides)\n",
    "    conv_layer1 = conv2d_maxpool(x, 128, (3, 3), (1, 1), (2, 2), (2, 2))\n",
    "\n",
    "    # TODO: Apply a Flatten Layer\n",
    "    flattened = flatten(conv_layer1)\n",
    "\n",
    "    # TODO: Apply 1, 2, or 3 Fully Connected Layers\n",
    "    f_conn3 = fully_conn(flattened, 800)\n",
    "    f_conn3 = tf.nn.dropout(f_conn3, keep_prob)\n",
    "\n",
    "    # TODO: Apply an Output Layer\n",
    "    final_output = output(f_conn3, 10)\n",
    "\n",
    "    # TODO: return output\n",
    "    return final_output\n",
    "\n",
    "\"\"\"\n",
    "DON'T MODIFY ANYTHING IN THIS CELL THAT IS BELOW THIS LINE\n",
    "\"\"\"\n",
    "\n",
    "##############################\n",
    "## Build the Neural Network ##\n",
    "##############################\n",
    "\n",
    "# Remove previous weights, bias, inputs, etc..\n",
    "tf.reset_default_graph()\n",
    "\n",
    "# Inputs\n",
    "x = neural_net_image_input((32, 32, 3))\n",
    "y = neural_net_label_input(10)\n",
    "keep_prob = neural_net_keep_prob_input()\n",
    "\n",
    "# Model\n",
    "logits = conv_net(x, keep_prob)\n",
    "\n",
    "# Name logits Tensor, so that is can be loaded from disk after training\n",
    "logits = tf.identity(logits, name='logits')\n",
    "\n",
    "# Loss and Optimizer\n",
    "cost = tf.reduce_mean(tf.nn.softmax_cross_entropy_with_logits(logits=logits, labels=y))\n",
    "optimizer = tf.train.AdamOptimizer().minimize(cost)\n",
    "\n",
    "# Accuracy\n",
    "correct_pred = tf.equal(tf.argmax(logits, 1), tf.argmax(y, 1))\n",
    "accuracy = tf.reduce_mean(tf.cast(correct_pred, tf.float32), name='accuracy')\n",
    "\n",
    "tests.test_conv_net(conv_net)"
   ]
  },
  {
   "cell_type": "markdown",
   "metadata": {},
   "source": [
    "## Train the Neural Network\n",
    "### Single Optimization\n",
    "Implement the function `train_neural_network` to do a single optimization.  The optimization should use `optimizer` to optimize in `session` with a `feed_dict` of the following:\n",
    "* `x` for image input\n",
    "* `y` for labels\n",
    "* `keep_prob` for keep probability for dropout\n",
    "\n",
    "This function will be called for each batch, so `tf.global_variables_initializer()` has already been called.\n",
    "\n",
    "Note: Nothing needs to be returned. This function is only optimizing the neural network."
   ]
  },
  {
   "cell_type": "code",
   "execution_count": 80,
   "metadata": {},
   "outputs": [
    {
     "name": "stdout",
     "output_type": "stream",
     "text": [
      "Tests Passed\n"
     ]
    }
   ],
   "source": [
    "def train_neural_network(session, optimizer, keep_probability, feature_batch, label_batch):\n",
    "    \"\"\"\n",
    "    Optimize the session on a batch of images and labels\n",
    "    : session: Current TensorFlow session\n",
    "    : optimizer: TensorFlow optimizer function\n",
    "    : keep_probability: keep probability\n",
    "    : feature_batch: Batch of Numpy image data\n",
    "    : label_batch: Batch of Numpy label data\n",
    "    \"\"\"\n",
    "    # TODO: Implement Function\n",
    "    session.run(optimizer, feed_dict={\n",
    "        x:feature_batch,\n",
    "        y:label_batch,\n",
    "        keep_prob:keep_probability\n",
    "    })\n",
    "\n",
    "\n",
    "\"\"\"\n",
    "DON'T MODIFY ANYTHING IN THIS CELL THAT IS BELOW THIS LINE\n",
    "\"\"\"\n",
    "tests.test_train_nn(train_neural_network)"
   ]
  },
  {
   "cell_type": "markdown",
   "metadata": {},
   "source": [
    "### Show Stats\n",
    "Implement the function `print_stats` to print loss and validation accuracy.  Use the global variables `valid_features` and `valid_labels` to calculate validation accuracy.  Use a keep probability of `1.0` to calculate the loss and validation accuracy."
   ]
  },
  {
   "cell_type": "code",
   "execution_count": 81,
   "metadata": {
    "collapsed": true
   },
   "outputs": [],
   "source": [
    "def print_stats(session, feature_batch, label_batch, cost, accuracy):\n",
    "    \"\"\"\n",
    "    Print information about loss and validation accuracy\n",
    "    : session: Current TensorFlow session\n",
    "    : feature_batch: Batch of Numpy image data\n",
    "    : label_batch: Batch of Numpy label data\n",
    "    : cost: TensorFlow cost function\n",
    "    : accuracy: TensorFlow accuracy function\n",
    "    \"\"\"\n",
    "    # TODO: Implement Function\n",
    "    loss = session.run(cost, feed_dict={\n",
    "        x:feature_batch,\n",
    "        y:label_batch,\n",
    "        keep_prob:1.\n",
    "    })\n",
    "    valid_acc = session.run(accuracy, feed_dict={\n",
    "        x:valid_features,\n",
    "        y:valid_labels,\n",
    "        keep_prob:1.\n",
    "    })\n",
    "    print('Loss: {} Validation Accuracy: {}'.format(loss, valid_acc))"
   ]
  },
  {
   "cell_type": "markdown",
   "metadata": {},
   "source": [
    "### Hyperparameters\n",
    "Tune the following parameters:\n",
    "* Set `epochs` to the number of iterations until the network stops learning or start overfitting\n",
    "* Set `batch_size` to the highest number that your machine has memory for.  Most people set them to common sizes of memory:\n",
    " * 64\n",
    " * 128\n",
    " * 256\n",
    " * ...\n",
    "* Set `keep_probability` to the probability of keeping a node using dropout"
   ]
  },
  {
   "cell_type": "code",
   "execution_count": 82,
   "metadata": {
    "collapsed": true
   },
   "outputs": [],
   "source": [
    "# TODO: Tune Parameters\n",
    "epochs = 25\n",
    "batch_size = 128\n",
    "keep_probability = 0.5"
   ]
  },
  {
   "cell_type": "markdown",
   "metadata": {},
   "source": [
    "### Train on a Single CIFAR-10 Batch\n",
    "Instead of training the neural network on all the CIFAR-10 batches of data, let's use a single batch. This should save time while you iterate on the model to get a better accuracy.  Once the final validation accuracy is 50% or greater, run the model on all the data in the next section."
   ]
  },
  {
   "cell_type": "code",
   "execution_count": 83,
   "metadata": {},
   "outputs": [
    {
     "name": "stdout",
     "output_type": "stream",
     "text": [
      "Checking the Training on a Single Batch...\n",
      "Epoch  1, CIFAR-10 Batch 1:  Loss: 2.011552095413208 Validation Accuracy: 0.37119999527931213\n",
      "Epoch  2, CIFAR-10 Batch 1:  Loss: 1.6542314291000366 Validation Accuracy: 0.44179999828338623\n",
      "Epoch  3, CIFAR-10 Batch 1:  Loss: 1.4411020278930664 Validation Accuracy: 0.48419997096061707\n",
      "Epoch  4, CIFAR-10 Batch 1:  Loss: 1.2276606559753418 Validation Accuracy: 0.5013999342918396\n",
      "Epoch  5, CIFAR-10 Batch 1:  Loss: 1.0727189779281616 Validation Accuracy: 0.5219998955726624\n",
      "Epoch  6, CIFAR-10 Batch 1:  Loss: 0.9493005275726318 Validation Accuracy: 0.5227999091148376\n",
      "Epoch  7, CIFAR-10 Batch 1:  Loss: 0.8251261711120605 Validation Accuracy: 0.5201999545097351\n",
      "Epoch  8, CIFAR-10 Batch 1:  Loss: 0.761928141117096 Validation Accuracy: 0.5271999835968018\n",
      "Epoch  9, CIFAR-10 Batch 1:  Loss: 0.6525548696517944 Validation Accuracy: 0.5341999530792236\n",
      "Epoch 10, CIFAR-10 Batch 1:  Loss: 0.5406468510627747 Validation Accuracy: 0.5429999828338623\n",
      "Epoch 11, CIFAR-10 Batch 1:  Loss: 0.44798392057418823 Validation Accuracy: 0.550399899482727\n",
      "Epoch 12, CIFAR-10 Batch 1:  Loss: 0.3615438938140869 Validation Accuracy: 0.547999918460846\n",
      "Epoch 13, CIFAR-10 Batch 1:  Loss: 0.29045945405960083 Validation Accuracy: 0.556399941444397\n",
      "Epoch 14, CIFAR-10 Batch 1:  Loss: 0.22223997116088867 Validation Accuracy: 0.5519999265670776\n",
      "Epoch 15, CIFAR-10 Batch 1:  Loss: 0.20176318287849426 Validation Accuracy: 0.5593999028205872\n",
      "Epoch 16, CIFAR-10 Batch 1:  Loss: 0.1618136167526245 Validation Accuracy: 0.5557999610900879\n",
      "Epoch 17, CIFAR-10 Batch 1:  Loss: 0.14298152923583984 Validation Accuracy: 0.5549999475479126\n",
      "Epoch 18, CIFAR-10 Batch 1:  Loss: 0.12163841724395752 Validation Accuracy: 0.561799943447113\n",
      "Epoch 19, CIFAR-10 Batch 1:  Loss: 0.09255169332027435 Validation Accuracy: 0.558199942111969\n",
      "Epoch 20, CIFAR-10 Batch 1:  Loss: 0.06535856425762177 Validation Accuracy: 0.5677999258041382\n",
      "Epoch 21, CIFAR-10 Batch 1:  Loss: 0.06511395424604416 Validation Accuracy: 0.5537999272346497\n",
      "Epoch 22, CIFAR-10 Batch 1:  Loss: 0.04157375171780586 Validation Accuracy: 0.5723999738693237\n",
      "Epoch 23, CIFAR-10 Batch 1:  Loss: 0.032452505081892014 Validation Accuracy: 0.5593999624252319\n",
      "Epoch 24, CIFAR-10 Batch 1:  Loss: 0.02897648513317108 Validation Accuracy: 0.5659999251365662\n",
      "Epoch 25, CIFAR-10 Batch 1:  Loss: 0.023550909012556076 Validation Accuracy: 0.5641999840736389\n"
     ]
    }
   ],
   "source": [
    "\"\"\"\n",
    "DON'T MODIFY ANYTHING IN THIS CELL\n",
    "\"\"\"\n",
    "print('Checking the Training on a Single Batch...')\n",
    "with tf.Session() as sess:\n",
    "    # Initializing the variables\n",
    "    sess.run(tf.global_variables_initializer())\n",
    "    \n",
    "    # Training cycle\n",
    "    for epoch in range(epochs):\n",
    "        batch_i = 1\n",
    "        for batch_features, batch_labels in helper.load_preprocess_training_batch(batch_i, batch_size):\n",
    "            train_neural_network(sess, optimizer, keep_probability, batch_features, batch_labels)\n",
    "        print('Epoch {:>2}, CIFAR-10 Batch {}:  '.format(epoch + 1, batch_i), end='')\n",
    "        print_stats(sess, batch_features, batch_labels, cost, accuracy)"
   ]
  },
  {
   "cell_type": "markdown",
   "metadata": {},
   "source": [
    "### Fully Train the Model\n",
    "Now that you got a good accuracy with a single CIFAR-10 batch, try it with all five batches."
   ]
  },
  {
   "cell_type": "code",
   "execution_count": 84,
   "metadata": {},
   "outputs": [
    {
     "name": "stdout",
     "output_type": "stream",
     "text": [
      "Training...\n",
      "Epoch  1, CIFAR-10 Batch 1:  Loss: 2.0012621879577637 Validation Accuracy: 0.38019996881484985\n",
      "Epoch  1, CIFAR-10 Batch 2:  Loss: 1.5647326707839966 Validation Accuracy: 0.42340001463890076\n",
      "Epoch  1, CIFAR-10 Batch 3:  Loss: 1.3235487937927246 Validation Accuracy: 0.4513999819755554\n",
      "Epoch  1, CIFAR-10 Batch 4:  Loss: 1.3741552829742432 Validation Accuracy: 0.49039992690086365\n",
      "Epoch  1, CIFAR-10 Batch 5:  Loss: 1.420964241027832 Validation Accuracy: 0.5205999612808228\n",
      "Epoch  2, CIFAR-10 Batch 1:  Loss: 1.4919133186340332 Validation Accuracy: 0.5153999924659729\n",
      "Epoch  2, CIFAR-10 Batch 2:  Loss: 1.1473884582519531 Validation Accuracy: 0.5359999537467957\n",
      "Epoch  2, CIFAR-10 Batch 3:  Loss: 1.0343464612960815 Validation Accuracy: 0.5425999164581299\n",
      "Epoch  2, CIFAR-10 Batch 4:  Loss: 1.1277482509613037 Validation Accuracy: 0.5575999617576599\n",
      "Epoch  2, CIFAR-10 Batch 5:  Loss: 1.1266069412231445 Validation Accuracy: 0.5691999793052673\n",
      "Epoch  3, CIFAR-10 Batch 1:  Loss: 1.2135734558105469 Validation Accuracy: 0.5615999102592468\n",
      "Epoch  3, CIFAR-10 Batch 2:  Loss: 0.8587860465049744 Validation Accuracy: 0.5855998992919922\n",
      "Epoch  3, CIFAR-10 Batch 3:  Loss: 0.8531259298324585 Validation Accuracy: 0.5767999291419983\n",
      "Epoch  3, CIFAR-10 Batch 4:  Loss: 0.9024913907051086 Validation Accuracy: 0.5989999175071716\n",
      "Epoch  3, CIFAR-10 Batch 5:  Loss: 0.8877139091491699 Validation Accuracy: 0.6085999011993408\n",
      "Epoch  4, CIFAR-10 Batch 1:  Loss: 1.0333324670791626 Validation Accuracy: 0.5895999073982239\n",
      "Epoch  4, CIFAR-10 Batch 2:  Loss: 0.7249264717102051 Validation Accuracy: 0.5981999635696411\n",
      "Epoch  4, CIFAR-10 Batch 3:  Loss: 0.6815208196640015 Validation Accuracy: 0.6073999404907227\n",
      "Epoch  4, CIFAR-10 Batch 4:  Loss: 0.805776834487915 Validation Accuracy: 0.6067999005317688\n",
      "Epoch  4, CIFAR-10 Batch 5:  Loss: 0.7336981296539307 Validation Accuracy: 0.6153998374938965\n",
      "Epoch  5, CIFAR-10 Batch 1:  Loss: 0.8673264384269714 Validation Accuracy: 0.6159998774528503\n",
      "Epoch  5, CIFAR-10 Batch 2:  Loss: 0.6182348132133484 Validation Accuracy: 0.6083999276161194\n",
      "Epoch  5, CIFAR-10 Batch 3:  Loss: 0.5442677140235901 Validation Accuracy: 0.6165999174118042\n",
      "Epoch  5, CIFAR-10 Batch 4:  Loss: 0.6526849269866943 Validation Accuracy: 0.6251999139785767\n",
      "Epoch  5, CIFAR-10 Batch 5:  Loss: 0.5752097368240356 Validation Accuracy: 0.6327998638153076\n",
      "Epoch  6, CIFAR-10 Batch 1:  Loss: 0.7096356153488159 Validation Accuracy: 0.6299999356269836\n",
      "Epoch  6, CIFAR-10 Batch 2:  Loss: 0.5257859826087952 Validation Accuracy: 0.6265998482704163\n",
      "Epoch  6, CIFAR-10 Batch 3:  Loss: 0.42303571105003357 Validation Accuracy: 0.629399836063385\n",
      "Epoch  6, CIFAR-10 Batch 4:  Loss: 0.49669981002807617 Validation Accuracy: 0.6337999105453491\n",
      "Epoch  6, CIFAR-10 Batch 5:  Loss: 0.4547715187072754 Validation Accuracy: 0.637799859046936\n",
      "Epoch  7, CIFAR-10 Batch 1:  Loss: 0.5971181392669678 Validation Accuracy: 0.6461998820304871\n",
      "Epoch  7, CIFAR-10 Batch 2:  Loss: 0.40616098046302795 Validation Accuracy: 0.6401998400688171\n",
      "Epoch  7, CIFAR-10 Batch 3:  Loss: 0.30582737922668457 Validation Accuracy: 0.6381999254226685\n",
      "Epoch  7, CIFAR-10 Batch 4:  Loss: 0.38493168354034424 Validation Accuracy: 0.6485998630523682\n",
      "Epoch  7, CIFAR-10 Batch 5:  Loss: 0.36603981256484985 Validation Accuracy: 0.6329998970031738\n",
      "Epoch  8, CIFAR-10 Batch 1:  Loss: 0.48932892084121704 Validation Accuracy: 0.6433998942375183\n",
      "Epoch  8, CIFAR-10 Batch 2:  Loss: 0.33534201979637146 Validation Accuracy: 0.6477999091148376\n",
      "Epoch  8, CIFAR-10 Batch 3:  Loss: 0.24310478568077087 Validation Accuracy: 0.6479998826980591\n",
      "Epoch  8, CIFAR-10 Batch 4:  Loss: 0.34312620759010315 Validation Accuracy: 0.6531999111175537\n",
      "Epoch  8, CIFAR-10 Batch 5:  Loss: 0.30097565054893494 Validation Accuracy: 0.636199951171875\n",
      "Epoch  9, CIFAR-10 Batch 1:  Loss: 0.3728322684764862 Validation Accuracy: 0.6495999097824097\n",
      "Epoch  9, CIFAR-10 Batch 2:  Loss: 0.3016785681247711 Validation Accuracy: 0.6444000005722046\n",
      "Epoch  9, CIFAR-10 Batch 3:  Loss: 0.225847989320755 Validation Accuracy: 0.6497998833656311\n",
      "Epoch  9, CIFAR-10 Batch 4:  Loss: 0.34412649273872375 Validation Accuracy: 0.6445999145507812\n",
      "Epoch  9, CIFAR-10 Batch 5:  Loss: 0.22060702741146088 Validation Accuracy: 0.6521998643875122\n",
      "Epoch 10, CIFAR-10 Batch 1:  Loss: 0.2477564513683319 Validation Accuracy: 0.6607999205589294\n",
      "Epoch 10, CIFAR-10 Batch 2:  Loss: 0.23146384954452515 Validation Accuracy: 0.6425998210906982\n",
      "Epoch 10, CIFAR-10 Batch 3:  Loss: 0.1916331946849823 Validation Accuracy: 0.6511998772621155\n",
      "Epoch 10, CIFAR-10 Batch 4:  Loss: 0.2002713680267334 Validation Accuracy: 0.6581999063491821\n",
      "Epoch 10, CIFAR-10 Batch 5:  Loss: 0.18326789140701294 Validation Accuracy: 0.6673998832702637\n",
      "Epoch 11, CIFAR-10 Batch 1:  Loss: 0.20355838537216187 Validation Accuracy: 0.6705999374389648\n",
      "Epoch 11, CIFAR-10 Batch 2:  Loss: 0.13730010390281677 Validation Accuracy: 0.6639998555183411\n",
      "Epoch 11, CIFAR-10 Batch 3:  Loss: 0.17759782075881958 Validation Accuracy: 0.6471999287605286\n",
      "Epoch 11, CIFAR-10 Batch 4:  Loss: 0.16248449683189392 Validation Accuracy: 0.6707999110221863\n",
      "Epoch 11, CIFAR-10 Batch 5:  Loss: 0.1322520673274994 Validation Accuracy: 0.6613999009132385\n",
      "Epoch 12, CIFAR-10 Batch 1:  Loss: 0.13917328417301178 Validation Accuracy: 0.6655998826026917\n",
      "Epoch 12, CIFAR-10 Batch 2:  Loss: 0.11067914217710495 Validation Accuracy: 0.6627998352050781\n",
      "Epoch 12, CIFAR-10 Batch 3:  Loss: 0.10355761647224426 Validation Accuracy: 0.6683999300003052\n",
      "Epoch 12, CIFAR-10 Batch 4:  Loss: 0.15522687137126923 Validation Accuracy: 0.6589999198913574\n",
      "Epoch 12, CIFAR-10 Batch 5:  Loss: 0.13012099266052246 Validation Accuracy: 0.6711998581886292\n",
      "Epoch 13, CIFAR-10 Batch 1:  Loss: 0.12039560824632645 Validation Accuracy: 0.6573998332023621\n",
      "Epoch 13, CIFAR-10 Batch 2:  Loss: 0.10379116237163544 Validation Accuracy: 0.6571999192237854\n",
      "Epoch 13, CIFAR-10 Batch 3:  Loss: 0.0752052292227745 Validation Accuracy: 0.6683999300003052\n",
      "Epoch 13, CIFAR-10 Batch 4:  Loss: 0.10535962134599686 Validation Accuracy: 0.6637998819351196\n",
      "Epoch 13, CIFAR-10 Batch 5:  Loss: 0.09792741388082504 Validation Accuracy: 0.6725999116897583\n",
      "Epoch 14, CIFAR-10 Batch 1:  Loss: 0.10017967224121094 Validation Accuracy: 0.6599999070167542\n",
      "Epoch 14, CIFAR-10 Batch 2:  Loss: 0.09819228947162628 Validation Accuracy: 0.6629999279975891\n",
      "Epoch 14, CIFAR-10 Batch 3:  Loss: 0.0822170153260231 Validation Accuracy: 0.6649999022483826\n",
      "Epoch 14, CIFAR-10 Batch 4:  Loss: 0.08310937136411667 Validation Accuracy: 0.6611998677253723\n",
      "Epoch 14, CIFAR-10 Batch 5:  Loss: 0.1102156713604927 Validation Accuracy: 0.6725999116897583\n",
      "Epoch 15, CIFAR-10 Batch 1:  Loss: 0.08064383268356323 Validation Accuracy: 0.6627999544143677\n",
      "Epoch 15, CIFAR-10 Batch 2:  Loss: 0.07022490352392197 Validation Accuracy: 0.6757999062538147\n",
      "Epoch 15, CIFAR-10 Batch 3:  Loss: 0.052670445293188095 Validation Accuracy: 0.6705998182296753\n",
      "Epoch 15, CIFAR-10 Batch 4:  Loss: 0.0708017647266388 Validation Accuracy: 0.6481998562812805\n",
      "Epoch 15, CIFAR-10 Batch 5:  Loss: 0.0757354125380516 Validation Accuracy: 0.6725999116897583\n",
      "Epoch 16, CIFAR-10 Batch 1:  Loss: 0.061932533979415894 Validation Accuracy: 0.6579999327659607\n",
      "Epoch 16, CIFAR-10 Batch 2:  Loss: 0.06649094074964523 Validation Accuracy: 0.6659998893737793\n",
      "Epoch 16, CIFAR-10 Batch 3:  Loss: 0.03571847826242447 Validation Accuracy: 0.6779998540878296\n",
      "Epoch 16, CIFAR-10 Batch 4:  Loss: 0.04971740394830704 Validation Accuracy: 0.6577998995780945\n",
      "Epoch 16, CIFAR-10 Batch 5:  Loss: 0.05635175108909607 Validation Accuracy: 0.6755998730659485\n",
      "Epoch 17, CIFAR-10 Batch 1:  Loss: 0.05516194924712181 Validation Accuracy: 0.6517999172210693\n",
      "Epoch 17, CIFAR-10 Batch 2:  Loss: 0.04323311522603035 Validation Accuracy: 0.668199896812439\n",
      "Epoch 17, CIFAR-10 Batch 3:  Loss: 0.03932417929172516 Validation Accuracy: 0.6653999090194702\n",
      "Epoch 17, CIFAR-10 Batch 4:  Loss: 0.049086038023233414 Validation Accuracy: 0.6619999408721924\n",
      "Epoch 17, CIFAR-10 Batch 5:  Loss: 0.07639768719673157 Validation Accuracy: 0.6709998846054077\n",
      "Epoch 18, CIFAR-10 Batch 1:  Loss: 0.03868599236011505 Validation Accuracy: 0.663399875164032\n",
      "Epoch 18, CIFAR-10 Batch 2:  Loss: 0.04103925824165344 Validation Accuracy: 0.6737998723983765\n"
     ]
    },
    {
     "name": "stdout",
     "output_type": "stream",
     "text": [
      "Epoch 18, CIFAR-10 Batch 3:  Loss: 0.03793641924858093 Validation Accuracy: 0.6675999164581299\n",
      "Epoch 18, CIFAR-10 Batch 4:  Loss: 0.03569194674491882 Validation Accuracy: 0.6635999083518982\n",
      "Epoch 18, CIFAR-10 Batch 5:  Loss: 0.033465102314949036 Validation Accuracy: 0.6691998243331909\n",
      "Epoch 19, CIFAR-10 Batch 1:  Loss: 0.04455626383423805 Validation Accuracy: 0.6645998954772949\n",
      "Epoch 19, CIFAR-10 Batch 2:  Loss: 0.025125283747911453 Validation Accuracy: 0.6747998595237732\n",
      "Epoch 19, CIFAR-10 Batch 3:  Loss: 0.018871380016207695 Validation Accuracy: 0.6749998331069946\n",
      "Epoch 19, CIFAR-10 Batch 4:  Loss: 0.05010935664176941 Validation Accuracy: 0.66159987449646\n",
      "Epoch 19, CIFAR-10 Batch 5:  Loss: 0.024703852832317352 Validation Accuracy: 0.6717998385429382\n",
      "Epoch 20, CIFAR-10 Batch 1:  Loss: 0.026960493996739388 Validation Accuracy: 0.668799877166748\n",
      "Epoch 20, CIFAR-10 Batch 2:  Loss: 0.02685430645942688 Validation Accuracy: 0.6675999164581299\n",
      "Epoch 20, CIFAR-10 Batch 3:  Loss: 0.01305707823485136 Validation Accuracy: 0.6703999042510986\n",
      "Epoch 20, CIFAR-10 Batch 4:  Loss: 0.035747576504945755 Validation Accuracy: 0.6693998575210571\n",
      "Epoch 20, CIFAR-10 Batch 5:  Loss: 0.01902150548994541 Validation Accuracy: 0.6729998588562012\n",
      "Epoch 21, CIFAR-10 Batch 1:  Loss: 0.022693265229463577 Validation Accuracy: 0.6763998866081238\n",
      "Epoch 21, CIFAR-10 Batch 2:  Loss: 0.016722679138183594 Validation Accuracy: 0.6603999733924866\n",
      "Epoch 21, CIFAR-10 Batch 3:  Loss: 0.017256248742341995 Validation Accuracy: 0.673599898815155\n",
      "Epoch 21, CIFAR-10 Batch 4:  Loss: 0.03290833532810211 Validation Accuracy: 0.6617999076843262\n",
      "Epoch 21, CIFAR-10 Batch 5:  Loss: 0.020199202001094818 Validation Accuracy: 0.6761999130249023\n",
      "Epoch 22, CIFAR-10 Batch 1:  Loss: 0.02834375947713852 Validation Accuracy: 0.6689999103546143\n",
      "Epoch 22, CIFAR-10 Batch 2:  Loss: 0.011387734673917294 Validation Accuracy: 0.6747997999191284\n",
      "Epoch 22, CIFAR-10 Batch 3:  Loss: 0.015149213373661041 Validation Accuracy: 0.6695998311042786\n",
      "Epoch 22, CIFAR-10 Batch 4:  Loss: 0.020431529730558395 Validation Accuracy: 0.6725998520851135\n",
      "Epoch 22, CIFAR-10 Batch 5:  Loss: 0.014482387341558933 Validation Accuracy: 0.6681998372077942\n",
      "Epoch 23, CIFAR-10 Batch 1:  Loss: 0.035993609577417374 Validation Accuracy: 0.662199854850769\n",
      "Epoch 23, CIFAR-10 Batch 2:  Loss: 0.013459769077599049 Validation Accuracy: 0.6629998683929443\n",
      "Epoch 23, CIFAR-10 Batch 3:  Loss: 0.01493765413761139 Validation Accuracy: 0.6785998344421387\n",
      "Epoch 23, CIFAR-10 Batch 4:  Loss: 0.027325762435793877 Validation Accuracy: 0.6665998697280884\n",
      "Epoch 23, CIFAR-10 Batch 5:  Loss: 0.00921525340527296 Validation Accuracy: 0.672799825668335\n",
      "Epoch 24, CIFAR-10 Batch 1:  Loss: 0.011799531988799572 Validation Accuracy: 0.6701998114585876\n",
      "Epoch 24, CIFAR-10 Batch 2:  Loss: 0.009132612496614456 Validation Accuracy: 0.665199875831604\n",
      "Epoch 24, CIFAR-10 Batch 3:  Loss: 0.014733834192156792 Validation Accuracy: 0.6647999286651611\n",
      "Epoch 24, CIFAR-10 Batch 4:  Loss: 0.013948332518339157 Validation Accuracy: 0.6667998433113098\n",
      "Epoch 24, CIFAR-10 Batch 5:  Loss: 0.013116567395627499 Validation Accuracy: 0.6757998466491699\n",
      "Epoch 25, CIFAR-10 Batch 1:  Loss: 0.01994519680738449 Validation Accuracy: 0.66159987449646\n",
      "Epoch 25, CIFAR-10 Batch 2:  Loss: 0.011041665449738503 Validation Accuracy: 0.6589998006820679\n",
      "Epoch 25, CIFAR-10 Batch 3:  Loss: 0.019947148859500885 Validation Accuracy: 0.6743999123573303\n",
      "Epoch 25, CIFAR-10 Batch 4:  Loss: 0.014240996912121773 Validation Accuracy: 0.668199896812439\n",
      "Epoch 25, CIFAR-10 Batch 5:  Loss: 0.007334611378610134 Validation Accuracy: 0.6749999523162842\n"
     ]
    }
   ],
   "source": [
    "\"\"\"\n",
    "DON'T MODIFY ANYTHING IN THIS CELL\n",
    "\"\"\"\n",
    "save_model_path = './image_classification'\n",
    "\n",
    "print('Training...')\n",
    "with tf.Session() as sess:\n",
    "    # Initializing the variables\n",
    "    sess.run(tf.global_variables_initializer())\n",
    "    \n",
    "    # Training cycle\n",
    "    for epoch in range(epochs):\n",
    "        # Loop over all batches\n",
    "        n_batches = 5\n",
    "        for batch_i in range(1, n_batches + 1):\n",
    "            for batch_features, batch_labels in helper.load_preprocess_training_batch(batch_i, batch_size):\n",
    "                train_neural_network(sess, optimizer, keep_probability, batch_features, batch_labels)\n",
    "            print('Epoch {:>2}, CIFAR-10 Batch {}:  '.format(epoch + 1, batch_i), end='')\n",
    "            print_stats(sess, batch_features, batch_labels, cost, accuracy)\n",
    "            \n",
    "    # Save Model\n",
    "    saver = tf.train.Saver()\n",
    "    save_path = saver.save(sess, save_model_path)"
   ]
  },
  {
   "cell_type": "markdown",
   "metadata": {},
   "source": [
    "# Checkpoint\n",
    "The model has been saved to disk.\n",
    "## Test Model\n",
    "Test your model against the test dataset.  This will be your final accuracy. You should have an accuracy greater than 50%. If you don't, keep tweaking the model architecture and parameters."
   ]
  },
  {
   "cell_type": "code",
   "execution_count": 85,
   "metadata": {},
   "outputs": [
    {
     "name": "stdout",
     "output_type": "stream",
     "text": [
      "INFO:tensorflow:Restoring parameters from ./image_classification\n",
      "Testing Accuracy: 0.6776107594936709\n",
      "\n"
     ]
    },
    {
     "data": {
      "image/png": "[encoded data removed]",
      "text/plain": [
       "<matplotlib.figure.Figure at 0x7f4f63c7c0f0>"
      ]
     },
     "metadata": {
      "image/png": {
       "height": 319,
       "width": 355
      }
     },
     "output_type": "display_data"
    }
   ],
   "source": [
    "\"\"\"\n",
    "DON'T MODIFY ANYTHING IN THIS CELL\n",
    "\"\"\"\n",
    "%matplotlib inline\n",
    "%config InlineBackend.figure_format = 'retina'\n",
    "\n",
    "import tensorflow as tf\n",
    "import pickle\n",
    "import helper\n",
    "import random\n",
    "\n",
    "# Set batch size if not already set\n",
    "try:\n",
    "    if batch_size:\n",
    "        pass\n",
    "except NameError:\n",
    "    batch_size = 64\n",
    "\n",
    "save_model_path = './image_classification'\n",
    "n_samples = 4\n",
    "top_n_predictions = 3\n",
    "\n",
    "def test_model():\n",
    "    \"\"\"\n",
    "    Test the saved model against the test dataset\n",
    "    \"\"\"\n",
    "\n",
    "    test_features, test_labels = pickle.load(open('preprocess_test.p', mode='rb'))\n",
    "    loaded_graph = tf.Graph()\n",
    "\n",
    "    with tf.Session(graph=loaded_graph) as sess:\n",
    "        # Load model\n",
    "        loader = tf.train.import_meta_graph(save_model_path + '.meta')\n",
    "        loader.restore(sess, save_model_path)\n",
    "\n",
    "        # Get Tensors from loaded model\n",
    "        loaded_x = loaded_graph.get_tensor_by_name('x:0')\n",
    "        loaded_y = loaded_graph.get_tensor_by_name('y:0')\n",
    "        loaded_keep_prob = loaded_graph.get_tensor_by_name('keep_prob:0')\n",
    "        loaded_logits = loaded_graph.get_tensor_by_name('logits:0')\n",
    "        loaded_acc = loaded_graph.get_tensor_by_name('accuracy:0')\n",
    "        \n",
    "        # Get accuracy in batches for memory limitations\n",
    "        test_batch_acc_total = 0\n",
    "        test_batch_count = 0\n",
    "        \n",
    "        for test_feature_batch, test_label_batch in helper.batch_features_labels(test_features, test_labels, batch_size):\n",
    "            test_batch_acc_total += sess.run(\n",
    "                loaded_acc,\n",
    "                feed_dict={loaded_x: test_feature_batch, loaded_y: test_label_batch, loaded_keep_prob: 1.0})\n",
    "            test_batch_count += 1\n",
    "\n",
    "        print('Testing Accuracy: {}\\n'.format(test_batch_acc_total/test_batch_count))\n",
    "\n",
    "        # Print Random Samples\n",
    "        random_test_features, random_test_labels = tuple(zip(*random.sample(list(zip(test_features, test_labels)), n_samples)))\n",
    "        random_test_predictions = sess.run(\n",
    "            tf.nn.top_k(tf.nn.softmax(loaded_logits), top_n_predictions),\n",
    "            feed_dict={loaded_x: random_test_features, loaded_y: random_test_labels, loaded_keep_prob: 1.0})\n",
    "        helper.display_image_predictions(random_test_features, random_test_labels, random_test_predictions)\n",
    "\n",
    "\n",
    "test_model()"
   ]
  },
  {
   "cell_type": "markdown",
   "metadata": {},
   "source": [
    "## Why 50-80% Accuracy?\n",
    "You might be wondering why you can't get an accuracy any higher. First things first, 50% isn't bad for a simple CNN.  Pure guessing would get you 10% accuracy. However, you might notice people are getting scores [well above 80%](http://rodrigob.github.io/are_we_there_yet/build/classification_datasets_results.html#43494641522d3130).  That's because we haven't taught you all there is to know about neural networks. We still need to cover a few more techniques.\n",
    "## Submitting This Project\n",
    "When submitting this project, make sure to run all the cells before saving the notebook.  Save the notebook file as \"dlnd_image_classification.ipynb\" and save it as a HTML file under \"File\" -> \"Download as\".  Include the \"helper.py\" and \"problem_unittests.py\" files in your submission."
   ]
  }
 ],
 "metadata": {
  "kernelspec": {
   "display_name": "Python 3",
   "language": "python",
   "name": "python3"
  },
  "language_info": {
   "codemirror_mode": {
    "name": "ipython",
    "version": 3
   },
   "file_extension": ".py",
   "mimetype": "text/x-python",
   "name": "python",
   "nbconvert_exporter": "python",
   "pygments_lexer": "ipython3",
   "version": "3.5.3"
  }
 },
 "nbformat": 4,
 "nbformat_minor": 1
}
